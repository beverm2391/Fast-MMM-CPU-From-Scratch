{
 "cells": [
  {
   "cell_type": "code",
   "execution_count": 2,
   "metadata": {},
   "outputs": [],
   "source": [
    "import numpy as np\n",
    "import time"
   ]
  },
  {
   "cell_type": "code",
   "execution_count": 3,
   "metadata": {},
   "outputs": [],
   "source": [
    "# For each entry of our NxN result matrix, we have to perform a dot product between a row vector and a column vector, both of length N.\n",
    "# A cols must equal B rows.\n",
    "# For simplicity, let’s assume both matrices are square. For each entry of our NxN result matrix, we have to perform a dot product between a row vector and a column vector, both of length N.\n",
    "\n",
    "def MMM(A, B):\n",
    "    C = np.zeros((A.n_rows, B.n_cols)) # Initialize the result matrix to all zeros.\n",
    "    for row in range(A.n_rows): # For each row of A\n",
    "        for col in range(B.n_cols): # For each column of B\n",
    "            for inner in range(A.n_inner): # For each inner product\n",
    "                C[row, col] = C[row, col] + A[row, inner] * B[inner, col] # Perform the dot product\n",
    "    return C\n",
    "\n",
    "# This results in N(=Rows) * N(=Cols) * N(=dot product) * 2(mul + add) operations = 2N^3 FLOPs."
   ]
  },
  {
   "cell_type": "code",
   "execution_count": 9,
   "metadata": {},
   "outputs": [
    {
     "name": "stdout",
     "output_type": "stream",
     "text": [
      "MMM_v2 took 617.483 ms\n"
     ]
    }
   ],
   "source": [
    "mat1 = np.random.rand(100, 100)\n",
    "mat2 = np.random.rand(100, 100)\n",
    "\n",
    "def MMM_v2(A, B):\n",
    "    C = np.zeros((a_rows := len(A), b_cols := len(B[0]))) # Initialize the result matrix to all zeros\n",
    "    for row in range(a_rows): # For each row of A\n",
    "        for col in range(b_cols): # For each column of B\n",
    "            for inner in range(a_inners := len(A[0])): # For each inner product\n",
    "                C[row, col] = C[row, col] + A[row, inner] * B[inner, col] # Perform the dot product\n",
    "    return C\n",
    "\n",
    "start = time.time_ns()\n",
    "res = MMM_v2(mat1, mat2)\n",
    "end = time.time_ns() - start\n",
    "print(f\"MMM_v2 took {end / 1000000} ms\")"
   ]
  },
  {
   "cell_type": "code",
   "execution_count": 8,
   "metadata": {},
   "outputs": [
    {
     "name": "stdout",
     "output_type": "stream",
     "text": [
      "Numpy dot product took 5.635 ms\n"
     ]
    }
   ],
   "source": [
    "x = np.random.randn(1024, 1024).astype(np.float32)\n",
    "y = np.random.randn(1024, 1024).astype(np.float32)\n",
    "start = time.time_ns()\n",
    "z = np.dot(x, y)\n",
    "end = time.time_ns() - start\n",
    "print(f\"Numpy dot product took {end / 1000000} ms\")"
   ]
  },
  {
   "cell_type": "code",
   "execution_count": 10,
   "metadata": {},
   "outputs": [],
   "source": [
    "def matmulImplTilingPsuedoCode(left, right, result):\n",
    "    # by splitting the middle loop into two parts, we can avoid cache misses in all but thr first iteration of the outer loop\n",
    "\n",
    "    # iteration 1\n",
    "    for row in range(6):\n",
    "        for inner in range(3):\n",
    "            for column in range(6):\n",
    "                result[row, column] += left[row, inner] * right[inner, column]\n",
    "    # iteration 2\n",
    "    for row in range(6):\n",
    "        for inner in range(3,6):\n",
    "            for column in range(6):\n",
    "                result[row, column] += left[row, inner] * right[inner, column]\n",
    "\n",
    "    return result"
   ]
  }
 ],
 "metadata": {
  "kernelspec": {
   "display_name": "Python 3",
   "language": "python",
   "name": "python3"
  },
  "language_info": {
   "codemirror_mode": {
    "name": "ipython",
    "version": 3
   },
   "file_extension": ".py",
   "mimetype": "text/x-python",
   "name": "python",
   "nbconvert_exporter": "python",
   "pygments_lexer": "ipython3",
   "version": "3.9.9"
  }
 },
 "nbformat": 4,
 "nbformat_minor": 2
}
