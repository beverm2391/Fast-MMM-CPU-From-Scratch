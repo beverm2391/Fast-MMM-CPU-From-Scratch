{
 "cells": [
  {
   "cell_type": "code",
   "execution_count": 4,
   "metadata": {},
   "outputs": [],
   "source": [
    "import numpy as np\n",
    "import time"
   ]
  },
  {
   "cell_type": "code",
   "execution_count": 5,
   "metadata": {},
   "outputs": [],
   "source": [
    "# For each entry of our NxN result matrix, we have to perform a dot product between a row vector and a column vector, both of length N.\n",
    "# A cols must equal B rows.\n",
    "# For simplicity, let’s assume both matrices are square. For each entry of our NxN result matrix, we have to perform a dot product between a row vector and a column vector, both of length N.\n",
    "\n",
    "def MMM(A, B):\n",
    "    C = np.zeros((A.n_rows, B.n_cols)) # Initialize the result matrix to all zeros.\n",
    "    for row in range(A.n_rows): # For each row of A\n",
    "        for col in range(B.n_cols): # For each column of B\n",
    "            for inner in range(A.n_inner): # For each inner product\n",
    "                C[row, col] = C[row, col] + A[row, inner] * B[inner, col] # Perform the dot product\n",
    "    return C\n",
    "\n",
    "# This results in N(=Rows) * N(=Cols) * N(=dot product) * 2(mul + add) operations = 2N^3 FLOPs."
   ]
  },
  {
   "cell_type": "code",
   "execution_count": 15,
   "metadata": {},
   "outputs": [],
   "source": [
    "def ms_to_flops(ms): return 2 * 1024**3 / (ms / 1000)"
   ]
  },
  {
   "cell_type": "code",
   "execution_count": 31,
   "metadata": {},
   "outputs": [
    {
     "name": "stdout",
     "output_type": "stream",
     "text": [
      "Numpy dot product took 3.511 ms\n"
     ]
    }
   ],
   "source": [
    "x = np.random.randn(1024, 1024).astype(np.float32)\n",
    "y = np.random.randn(1024, 1024).astype(np.float32)\n",
    "start = time.time_ns()\n",
    "z = np.dot(x, y)\n",
    "end = time.time_ns() - start\n",
    "print(f\"Numpy dot product took {end / 1000000} ms\")"
   ]
  }
 ],
 "metadata": {
  "kernelspec": {
   "display_name": "Python 3",
   "language": "python",
   "name": "python3"
  },
  "language_info": {
   "codemirror_mode": {
    "name": "ipython",
    "version": 3
   },
   "file_extension": ".py",
   "mimetype": "text/x-python",
   "name": "python",
   "nbconvert_exporter": "python",
   "pygments_lexer": "ipython3",
   "version": "3.9.9"
  }
 },
 "nbformat": 4,
 "nbformat_minor": 2
}
